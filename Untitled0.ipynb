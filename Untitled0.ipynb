{
  "nbformat": 4,
  "nbformat_minor": 0,
  "metadata": {
    "colab": {
      "provenance": [],
      "authorship_tag": "ABX9TyO7pxBc5pAJeCF7RrjKBNbS",
      "include_colab_link": true
    },
    "kernelspec": {
      "name": "python3",
      "display_name": "Python 3"
    },
    "language_info": {
      "name": "python"
    }
  },
  "cells": [
    {
      "cell_type": "markdown",
      "metadata": {
        "id": "view-in-github",
        "colab_type": "text"
      },
      "source": [
        "<a href=\"https://colab.research.google.com/github/yasir251/Colab/blob/colab-branch/Untitled0.ipynb\" target=\"_parent\"><img src=\"https://colab.research.google.com/assets/colab-badge.svg\" alt=\"Open In Colab\"/></a>"
      ]
    },
    {
      "cell_type": "code",
      "execution_count": null,
      "metadata": {
        "colab": {
          "base_uri": "https://localhost:8080/"
        },
        "id": "APmyi4H7NpFP",
        "outputId": "936585d4-f72a-40f9-8fad-3dcfc6379b05"
      },
      "outputs": [
        {
          "output_type": "stream",
          "name": "stdout",
          "text": [
            "Hello World\n"
          ]
        }
      ],
      "source": [
        "print(\"Hello World\")"
      ]
    },
    {
      "cell_type": "code",
      "source": [
        "# prompt: write a function to print greetings after taking name as input\n",
        "\n",
        "# def greet(name):\n",
        "#   print(\"Hello \" + name + \"!\")\n",
        "\n",
        "# # Get the name from the user\n",
        "# name = input(\"Enter your name: \")\n",
        "\n",
        "# # Call the greet function\n",
        "# greet(name)\n",
        "\n"
      ],
      "metadata": {
        "id": "z_bLn4ExNw_C"
      },
      "execution_count": null,
      "outputs": []
    },
    {
      "cell_type": "code",
      "source": [
        "class Student:\n",
        "  def __init__(self, name, age):\n",
        "    self.name = name\n",
        "    self.age = age\n",
        "    print(\"Hello World\")\n",
        "  def show(self):\n",
        "    print(self.name, self.age)\n"
      ],
      "metadata": {
        "id": "3RTVRcacTSfM"
      },
      "execution_count": null,
      "outputs": []
    },
    {
      "cell_type": "code",
      "source": [
        "std=Student(\"John\", 20)\n",
        "std1=Student(\"Jane\", 22)\n",
        "std2=Student(\"Jack\", 24)\n"
      ],
      "metadata": {
        "colab": {
          "base_uri": "https://localhost:8080/"
        },
        "id": "KfQ6adkkUfW1",
        "outputId": "2c6abbcc-53b3-4492-f653-cd1a0da14cf3"
      },
      "execution_count": null,
      "outputs": [
        {
          "output_type": "stream",
          "name": "stdout",
          "text": [
            "Hello World\n",
            "Hello World\n",
            "Hello World\n"
          ]
        }
      ]
    },
    {
      "cell_type": "code",
      "source": [
        "print(std.name)\n",
        "print(std1.name)\n",
        "print(std2.name)"
      ],
      "metadata": {
        "colab": {
          "base_uri": "https://localhost:8080/"
        },
        "id": "_UgcWx-TUxB6",
        "outputId": "962cfc64-5738-4ac4-873e-b371de12d4bf"
      },
      "execution_count": null,
      "outputs": [
        {
          "output_type": "stream",
          "name": "stdout",
          "text": [
            "John\n",
            "Jane\n",
            "Jack\n"
          ]
        }
      ]
    },
    {
      "cell_type": "code",
      "source": [
        "class MathOperations:\n",
        "    def add(a, b):\n",
        "        return a + b"
      ],
      "metadata": {
        "id": "RwZai_N_fpwh"
      },
      "execution_count": null,
      "outputs": []
    },
    {
      "cell_type": "code",
      "source": [
        "new_var = MathOperations()\n",
        "obj = new_var"
      ],
      "metadata": {
        "id": "Ei87M-9ug3iN"
      },
      "execution_count": null,
      "outputs": []
    },
    {
      "cell_type": "code",
      "source": [
        "obj.add(2, 3)"
      ],
      "metadata": {
        "colab": {
          "base_uri": "https://localhost:8080/",
          "height": 141
        },
        "id": "vD8X9FxQhKdi",
        "outputId": "d5084c0f-386d-469e-8225-b3ccbe57c949"
      },
      "execution_count": null,
      "outputs": [
        {
          "output_type": "error",
          "ename": "TypeError",
          "evalue": "MathOperations.add() takes 2 positional arguments but 3 were given",
          "traceback": [
            "\u001b[0;31m---------------------------------------------------------------------------\u001b[0m",
            "\u001b[0;31mTypeError\u001b[0m                                 Traceback (most recent call last)",
            "\u001b[0;32m<ipython-input-38-905dced901b0>\u001b[0m in \u001b[0;36m<cell line: 1>\u001b[0;34m()\u001b[0m\n\u001b[0;32m----> 1\u001b[0;31m \u001b[0mobj\u001b[0m\u001b[0;34m.\u001b[0m\u001b[0madd\u001b[0m\u001b[0;34m(\u001b[0m\u001b[0;36m2\u001b[0m\u001b[0;34m,\u001b[0m \u001b[0;36m3\u001b[0m\u001b[0;34m)\u001b[0m\u001b[0;34m\u001b[0m\u001b[0;34m\u001b[0m\u001b[0m\n\u001b[0m",
            "\u001b[0;31mTypeError\u001b[0m: MathOperations.add() takes 2 positional arguments but 3 were given"
          ]
        }
      ]
    }
  ]
}